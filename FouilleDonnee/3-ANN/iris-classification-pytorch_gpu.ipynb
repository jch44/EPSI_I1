{
  "cells": [
    {
      "cell_type": "markdown",
      "metadata": {},
      "source": [
        "# Introduction à PyTorch – Classification avec un Réseau de Neurones\n",
        "\n",
        "**Objectif** : Apprendre à construire, entraîner et évaluer un réseau de neurones avec **PyTorch** sur le dataset **Iris**.\n",
        "\n",
        "---\n",
        "\n",
        "## Compétences acquises\n",
        "\n",
        "| Étape | Ce que vous saurez faire |\n",
        "|-------|---------------------------|\n",
        "| 1 | Charger et préparer des données |\n",
        "| 2 | Créer un `Dataset` et `DataLoader` |\n",
        "| 3 | Définir un modèle avec plusieurs couches |\n",
        "| 4 | Entraîner avec une boucle propre |\n",
        "| 5 | Évaluer et visualiser les performances |\n",
        "\n",
        "---\n",
        "\n",
        "**Exécutez chaque cellule dans l’ordre.**"
      ]
    },
    {
      "cell_type": "markdown",
      "metadata": {},
      "source": [
        "## 0. Imports"
      ]
    },
    {
      "cell_type": "code",
      "execution_count": null,
      "metadata": {},
      "outputs": [],
      "source": [
        "import numpy as np\n",
        "import torch\n",
        "import torch.nn as nn\n",
        "import torch.optim as optim\n",
        "from torch.utils.data import Dataset, DataLoader\n",
        "from sklearn.datasets import load_iris\n",
        "from sklearn.model_selection import train_test_split\n",
        "from sklearn.metrics import accuracy_score\n",
        "import matplotlib.pyplot as plt\n",
        "\n",
        "# Configuration du device\n",
        "DEVICE = torch.device(\"cuda\" if torch.cuda.is_available() else \"cpu\")\n",
        "print(f\"Device utilisé : {DEVICE}\")"
      ]
    },
    {
      "cell_type": "markdown",
      "metadata": {},
      "source": [
        "## 1. Hyperparamètres (à modifier plus tard)"
      ]
    },
    {
      "cell_type": "code",
      "execution_count": null,
      "metadata": {},
      "outputs": [],
      "source": [
        "# MODIFIEZ CES VALEURS POUR EXPÉRIMENTER !\n",
        "HIDDEN_SIZE = 50       # Taille des couches cachées\n",
        "NUM_LAYERS = 3         # Nombre de couches cachées\n",
        "DROPOUT_PROB = 0.2     # Probabilité de dropout\n",
        "LEARNING_RATE = 0.01   # Taux d'apprentissage\n",
        "NUM_EPOCHS = 50        # Nombre d'époques\n",
        "BATCH_SIZE = 50        # Taille des mini-batchs"
      ]
    },
    {
      "cell_type": "markdown",
      "metadata": {},
      "source": [
        "## 2. Chargement et préparation des données (Iris)"
      ]
    },
    {
      "cell_type": "code",
      "execution_count": null,
      "metadata": {},
      "outputs": [],
      "source": [
        "# Chargement du dataset Iris\n",
        "X, y = load_iris(return_X_y=True)\n",
        "X = X.astype(np.float32)\n",
        "y = y.astype(np.int64)\n",
        "\n",
        "# Split : 90% train, 10% validation\n",
        "X_train, X_dev, y_train, y_dev = train_test_split(\n",
        "    X, y, test_size=0.1, random_state=42, stratify=y\n",
        ")\n",
        "\n",
        "print(f\"Train : {X_train.shape}, Dev : {X_dev.shape}\")"
      ]
    },
    {
      "cell_type": "markdown",
      "metadata": {},
      "source": [
        "## 3. Création d’un `Dataset` PyTorch"
      ]
    },
    {
      "cell_type": "code",
      "execution_count": null,
      "metadata": {},
      "outputs": [],
      "source": [
        "class SimpleDataset(Dataset):\n",
        "    def __init__(self, X, y=None):\n",
        "        self.X = torch.from_numpy(X)\n",
        "        self.y = torch.from_numpy(y) if y is not None else None\n",
        "\n",
        "    def __len__(self):\n",
        "        return len(self.X)\n",
        "\n",
        "    def __getitem__(self, idx):\n",
        "        if self.y is not None:\n",
        "            return self.X[idx], self.y[idx]\n",
        "        return self.X[idx]\n",
        "\n",
        "# DataLoaders\n",
        "train_loader = DataLoader(SimpleDataset(X_train, y_train), batch_size=BATCH_SIZE, shuffle=True)\n",
        "dev_loader = DataLoader(SimpleDataset(X_dev, y_dev), batch_size=BATCH_SIZE, shuffle=False)\n",
        "\n",
        "print(f\"Nombre de batchs par epoch : {len(train_loader)}\")"
      ]
    },
    {
      "cell_type": "markdown",
      "metadata": {},
      "source": [
        "## 4. Définition du modèle (avec `NUM_LAYERS` couches)"
      ]
    },
    {
      "cell_type": "code",
      "execution_count": null,
      "metadata": {},
      "outputs": [],
      "source": [
        "class NeuralNet(nn.Module):\n",
        "    def __init__(self, input_size=4, hidden_size=50, num_layers=3, dropout_prob=0.2):\n",
        "        super().__init__()\n",
        "        layers = []\n",
        "        in_features = input_size\n",
        "\n",
        "        for _ in range(num_layers):\n",
        "            layers.append(nn.Linear(in_features, hidden_size))\n",
        "            layers.append(nn.ReLU())\n",
        "            layers.append(nn.Dropout(dropout_prob))\n",
        "            in_features = hidden_size\n",
        "\n",
        "        layers.append(nn.Linear(hidden_size, 3))  # 3 classes (Iris)\n",
        "        self.network = nn.Sequential(*layers)\n",
        "\n",
        "    def forward(self, x):\n",
        "        return self.network(x)\n",
        "\n",
        "# Instanciation\n",
        "model = NeuralNet(\n",
        "    hidden_size=HIDDEN_SIZE,\n",
        "    num_layers=NUM_LAYERS,\n",
        "    dropout_prob=DROPOUT_PROB\n",
        ").to(DEVICE)\n",
        "\n",
        "print(model)"
      ]
    },
    {
      "cell_type": "markdown",
      "metadata": {},
      "source": [
        "## 5. Fonction de coût et optimiseur"
      ]
    },
    {
      "cell_type": "code",
      "execution_count": null,
      "metadata": {},
      "outputs": [],
      "source": [
        "criterion = nn.CrossEntropyLoss()\n",
        "optimizer = optim.Adam(model.parameters(), lr=LEARNING_RATE)"
      ]
    },
    {
      "cell_type": "markdown",
      "metadata": {},
      "source": [
        "## 6. Fonction d’entraînement (1 époque)"
      ]
    },
    {
      "cell_type": "code",
      "execution_count": null,
      "metadata": {},
      "outputs": [],
      "source": [
        "def train_epoch(model, loader, criterion, optimizer, device):\n",
        "    model.train()\n",
        "    total_loss = 0.0\n",
        "    for X_batch, y_batch in loader:\n",
        "        X_batch, y_batch = X_batch.to(device), y_batch.to(device)\n",
        "\n",
        "        optimizer.zero_grad()\n",
        "        outputs = model(X_batch)\n",
        "        loss = criterion(outputs, y_batch)\n",
        "        loss.backward()\n",
        "        optimizer.step()\n",
        "\n",
        "        total_loss += loss.item() * X_batch.size(0)\n",
        "    return total_loss / len(loader.dataset)"
      ]
    },
    {
      "cell_type": "markdown",
      "metadata": {},
      "source": [
        "## 7. Fonction d’évaluation"
      ]
    },
    {
      "cell_type": "code",
      "execution_count": null,
      "metadata": {},
      "outputs": [],
      "source": [
        "def evaluate(model, loader, device):\n",
        "    model.eval()\n",
        "    correct = 0\n",
        "    with torch.no_grad():\n",
        "        for X_batch, y_batch in loader:\n",
        "            X_batch, y_batch = X_batch.to(device), y_batch.to(device)\n",
        "            outputs = model(X_batch)\n",
        "            _, predicted = torch.max(outputs, 1)\n",
        "            correct += (predicted == y_batch).sum().item()\n",
        "    return correct / len(loader.dataset)"
      ]
    },
    {
      "cell_type": "markdown",
      "metadata": {},
      "source": [
        "## 8. Entraînement complet + Visualisation"
      ]
    },
    {
      "cell_type": "code",
      "execution_count": null,
      "metadata": {},
      "outputs": [],
      "source": [
        "train_losses = []\n",
        "dev_accuracies = []\n",
        "\n",
        "print(\"Début de l'entraînement...\\n\")\n",
        "for epoch in range(1, NUM_EPOCHS + 1):\n",
        "    loss = train_epoch(model, train_loader, criterion, optimizer, DEVICE)\n",
        "    acc = evaluate(model, dev_loader, DEVICE)\n",
        "\n",
        "    train_losses.append(loss)\n",
        "    dev_accuracies.append(acc)\n",
        "\n",
        "    if epoch % 10 == 0 or epoch <= 3:\n",
        "        print(f\"Époque {epoch:2d} | Loss: {loss:.4f} | Accuracy: {acc:.4f}\")\n",
        "\n",
        "print(f\"\\nMeilleure accuracy : {max(dev_accuracies):.4f}\")"
      ]
    },
    {
      "cell_type": "markdown",
      "metadata": {},
      "source": [
        "## 9. Visualisation des courbes"
      ]
    },
    {
      "cell_type": "code",
      "execution_count": null,
      "metadata": {},
      "outputs": [],
      "source": [
        "plt.figure(figsize=(12, 4))\n",
        "\n",
        "plt.subplot(1, 2, 1)\n",
        "plt.plot(train_losses, label='Train Loss', color='blue')\n",
        "plt.title('Évolution de la perte')\n",
        "plt.xlabel('Époque')\n",
        "plt.ylabel('Loss')\n",
        "plt.grid(True)\n",
        "plt.legend()\n",
        "\n",
        "plt.subplot(1, 2, 2)\n",
        "plt.plot(dev_accuracies, label='Dev Accuracy', color='green')\n",
        "plt.title('Évolution de la précision')\n",
        "plt.xlabel('Époque')\n",
        "plt.ylabel('Accuracy')\n",
        "plt.grid(True)\n",
        "plt.legend()\n",
        "\n",
        "plt.tight_layout()\n",
        "plt.show()"
      ]
    },
    {
      "cell_type": "markdown",
      "metadata": {},
      "source": [
        "## Vous avez terminé !\n",
        "\n",
        "Vous savez maintenant :\n",
        "- Créer un `Dataset` et `DataLoader`\n",
        "- Construire un modèle avec plusieurs couches\n",
        "- Entraîner avec `Adam` et `CrossEntropyLoss`\n",
        "- Évaluer et visualiser les performances\n",
        "\n",
        "**À vous de jouer avec d’autres datasets !**"
      ]
    }
  ],
  "metadata": {
    "kernelspec": {
      "display_name": "Python 3",
      "language": "python",
      "name": "python3"
    },
    "language_info": {
      "codemirror_mode": {
        "name": "ipython",
        "version": 3
      },
      "file_extension": ".py",
      "mimetype": "text/x-python",
      "name": "python",
      "nbconvert_exporter": "python",
      "pygments_lexer": "ipython3",
      "version": "3.12.4"
    }
  },
  "nbformat": 4,
  "nbformat_minor": 2
}
