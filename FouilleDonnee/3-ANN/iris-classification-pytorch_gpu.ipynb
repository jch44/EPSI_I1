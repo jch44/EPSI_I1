{
 "cells": [
  {
   "cell_type": "code",
   "execution_count": null,
   "metadata": {
    "_uuid": "12442d691ca5f635b2c48d9f9462f1fa2098cc1a"
   },
   "outputs": [],
   "source": [
    "import numpy as np\n",
    "\n",
    "# Outils sklearn\n",
    "from sklearn.datasets import load_iris\n",
    "from sklearn.model_selection import train_test_split\n",
    "from sklearn.metrics import accuracy_score\n",
    "\n",
    "# Outils pytorch\n",
    "import torch # package Racine\n",
    "from torch import nn # Réseau de Neurones (Neural Network)\n",
    "import torch.nn.functional as F # Couches, fonctions d'activation ...\n",
    "import torch.autograd as autograd # Calcul dérivée (Gradient)\n",
    "import torch.optim as optim # Optimiser pour la descente de Gradient\n",
    "\n",
    "# Librairie graphique plotly\n",
    "\n",
    "import plotly.graph_objs as go\n",
    "import plotly.tools as tls\n",
    "import plotly.figure_factory as ff"
   ]
  },
  {
   "cell_type": "code",
   "execution_count": null,
   "metadata": {},
   "outputs": [],
   "source": [
    "cuda = torch.device('cuda:0')\n",
    "print('cuda disponible:', torch.cuda.is_available())\n",
    "\n",
    "dir(optim)"
   ]
  },
  {
   "cell_type": "markdown",
   "metadata": {},
   "source": [
    "## Construction d'une classe module"
   ]
  },
  {
   "cell_type": "code",
   "execution_count": null,
   "metadata": {
    "_uuid": "d5f0079b1d8e90e4393cb22544604b00d6ad995e"
   },
   "outputs": [],
   "source": [
    "class ClasseModele(nn.Module):\n",
    "\n",
    "    def __init__(self, input_dim):\n",
    "        super(ClasseModele, self).__init__()\n",
    "        self.layer1 = nn.Linear(input_dim,50) # Première couche de 50 neurones\n",
    "        self.layer2 = nn.Linear(50, 20)       # deuxième couche de 20 neurones\n",
    "        self.layer3 = nn.Linear(20, 3)        # Couche de sortie de 3 neurones (3 classes)\n",
    "\n",
    "    def forward(self, x):\n",
    "        # https://pytorch.org/docs/stable/nn.html#non-linear-activations-weighted-sum-nonlinearity\n",
    "        x = F.relu(self.layer1(x))\n",
    "        x = F.relu(self.layer2(x))\n",
    "        x = self.layer3(x) # Application de la fonction sofmax et non d'activation à la couche de sortie\n",
    "        return x"
   ]
  },
  {
   "cell_type": "markdown",
   "metadata": {},
   "source": [
    "## Chargement des données Iris"
   ]
  },
  {
   "cell_type": "code",
   "execution_count": null,
   "metadata": {
    "_uuid": "3099490f7cf6f9c178842d3d042f9e8173207b7a"
   },
   "outputs": [],
   "source": [
    "features, labels = load_iris(return_X_y=True)\n",
    "print(features.shape,labels.shape)\n",
    "iris = np.concatenate((features, labels.reshape([150,1])), axis=1)\n",
    "iris[np.random.randint(len(iris), size=10)]"
   ]
  },
  {
   "cell_type": "markdown",
   "metadata": {},
   "source": [
    "## Création d'un set de train et d'un set de test (dev)"
   ]
  },
  {
   "cell_type": "code",
   "execution_count": null,
   "metadata": {
    "_uuid": "aec1515e7029db5699bdcaa12a2cf4e7eb0dc9cb"
   },
   "outputs": [],
   "source": [
    "features_train,features_dev, labels_train, labels_dev = train_test_split(features, labels, random_state=1, train_size=0.5)\n",
    "print(features_train.shape,features_dev.shape, labels_train.shape, labels_dev.shape)\n",
    "labels_dev[:10]"
   ]
  },
  {
   "cell_type": "markdown",
   "metadata": {},
   "source": [
    "## Apprentissage avec PyTorch"
   ]
  },
  {
   "cell_type": "code",
   "execution_count": null,
   "metadata": {
    "_uuid": "0130b6fa11a2fac5e479d0bc0d45b93b2b54f8bf"
   },
   "outputs": [],
   "source": [
    "# Création d'un objet Modèle\n",
    "model = ClasseModele(features_train.shape[1])\n",
    "model.cuda()\n",
    "\n",
    "# choix de l'algorithme de Descente de Gradient et du learning Rate\n",
    "# https://pytorch.org/docs/stable/optim.html#algorithms\n",
    "optimizer = optim.Adam(model.parameters(), lr=0.01)\n",
    "\n",
    "# choix de la fonction de coût\n",
    "# https://pytorch.org/docs/stable/nn.html#loss-functions\n",
    "loss_fn = nn.CrossEntropyLoss()\n",
    "\n",
    "#Nombre d'itération sur les données\n",
    "epochs = 100\n",
    "\n",
    "print(model)"
   ]
  },
  {
   "cell_type": "code",
   "execution_count": null,
   "metadata": {
    "_uuid": "da7c6763488c302a632a6d2474cc69de4dcc611d"
   },
   "outputs": [],
   "source": [
    "# x_train, y_train = torch.from_numpy(features_train,).float().cuda(), torch.from_numpy(labels_train).long().cuda()\n",
    "# Préparation des données\n",
    "x_train = torch.tensor(features_train, dtype=torch.float32).cuda()\n",
    "y_train = torch.tensor(labels_train, dtype=torch.long).cuda()\n",
    "\n",
    "# Boucle d'entraînement\n",
    "for epoch in range(1, epochs+1):\n",
    "    y_pred = model(x_train)\n",
    "    loss = loss_fn(y_pred, y_train)\n",
    "    if not epoch%10 :\n",
    "        print(f\"Epoch {epoch}, Loss {loss.item():.4f}\")\n",
    "\n",
    "    optimizer.zero_grad() # Réinitialise le gradient\n",
    "    loss.backward()       # Exécute la backpropagation\n",
    "    optimizer.step()      # Met à jours les paramètres du réseau"
   ]
  },
  {
   "cell_type": "markdown",
   "metadata": {},
   "source": [
    "## Prédiction"
   ]
  },
  {
   "cell_type": "code",
   "execution_count": null,
   "metadata": {
    "_uuid": "4b830cef57e1738d85bc7c9934aa990ecbdbafaf"
   },
   "outputs": [],
   "source": [
    "# Conversion de features_dev en tenseur CUDA de type float\n",
    "x_dev = torch.tensor(features_dev, dtype=torch.float32).cuda()\n",
    "\n",
    "# Exécution du modèle\n",
    "pred = model(x_dev)\n",
    "\n",
    "# Analyse du tenseur avant et après détachement du graphe de calcul\n",
    "print(\"Avant Detach:\", pred.grad_fn)\n",
    "\n",
    "# Détachement et conversion en tableau NumPy\n",
    "pred_detach = pred.detach()\n",
    "print(\"Après Detach et conversion en NumPy:\", pred_detach.grad_fn)\n",
    "pred_iris = pred_detach.cpu().numpy()\n",
    "print(\"Prédiction\\n---------------\\n\", pred_iris)"
   ]
  },
  {
   "cell_type": "markdown",
   "metadata": {},
   "source": [
    "## Calcul du score de précision"
   ]
  },
  {
   "cell_type": "markdown",
   "metadata": {},
   "source": [
    "### Transformation des probabilités en résultat unique"
   ]
  },
  {
   "cell_type": "code",
   "execution_count": null,
   "metadata": {},
   "outputs": [],
   "source": [
    "prevision_type_iris =  np.argmax(pred_iris,axis=1)\n",
    "prevision_type_iris"
   ]
  },
  {
   "cell_type": "markdown",
   "metadata": {},
   "source": [
    "### Calcul de la précision"
   ]
  },
  {
   "cell_type": "code",
   "execution_count": null,
   "metadata": {
    "_uuid": "a8494c79d4118a4a6d64390d5795fa5ab663be7e"
   },
   "outputs": [],
   "source": [
    "print (\"Précision de la prévision = %.1f%% \"%(accuracy_score(labels_dev, prevision_type_iris)*100))\n",
    "print('%i prévision(s) correcte(s), %i erreur(s)'%(sum(prevision_type_iris==labels_dev),sum(prevision_type_iris!=labels_dev)))"
   ]
  },
  {
   "cell_type": "markdown",
   "metadata": {},
   "source": [
    "### Comparaison Courbes "
   ]
  },
  {
   "cell_type": "code",
   "execution_count": null,
   "metadata": {},
   "outputs": [],
   "source": [
    "acc_train=[]\n",
    "acc_dev=[]\n",
    "tab_epoch=[]\n",
    "new_model = ClasseModele(features_train.shape[1])\n",
    "new_model.cuda()\n",
    "new_optimizer = optim.Adam(new_model.parameters(), lr=0.01)\n",
    "epocs=100\n",
    "for epoch in range(1, epochs+1):\n",
    "    y_pred = new_model(x_train)\n",
    "    loss = loss_fn(y_pred, y_train)\n",
    "\n",
    "    if not epoch%10 :\n",
    "        print('Epoch #%i Loss=%.2f'%(epoch,loss.item()))\n",
    "        tab_epoch.append(epoch)\n",
    "        acc_dev.append(\n",
    "            accuracy_score(\n",
    "                labels_dev,\n",
    "                np.argmax(new_model(x_dev).cpu().detach().numpy(),axis=1)\n",
    "            )*100\n",
    "        )\n",
    "        acc_train.append(\n",
    "            accuracy_score(\n",
    "                labels_train,\n",
    "                np.argmax(new_model(x_train).cpu().detach().numpy(),axis=1)\n",
    "            )*100\n",
    "        )\n",
    "    new_optimizer.zero_grad() # Réinitialise le gradient\n",
    "    loss.backward()       # Exécute la backpropagation\n",
    "    new_optimizer.step()      # Met à jours les paramètres du réseau\n",
    "\n",
    "print(acc_train,acc_dev)"
   ]
  },
  {
   "cell_type": "markdown",
   "metadata": {},
   "source": [
    "## Graphique"
   ]
  },
  {
   "cell_type": "code",
   "execution_count": null,
   "metadata": {},
   "outputs": [],
   "source": [
    "train_line =go.Scatter(x=tab_epoch,y=acc_train,name='Train set')\n",
    "dev_line =go.Scatter(x=tab_epoch,y=acc_dev,name='Dev set')\n",
    "\n",
    "layout = go.Layout(title=\"Comparaison Précision Train/Test\",titlefont=dict(size=40),autosize=False, width=1100,height=1100)\n",
    "\n",
    "data=[train_line,dev_line]\n",
    "fig = go.Figure(data=data, layout=layout)\n",
    "fig.show()"
   ]
  }
 ],
 "metadata": {
  "kernelspec": {
   "display_name": "Python 3",
   "language": "python",
   "name": "python3"
  },
  "language_info": {
   "codemirror_mode": {
    "name": "ipython",
    "version": 3
   },
   "file_extension": ".py",
   "mimetype": "text/x-python",
   "name": "python",
   "nbconvert_exporter": "python",
   "pygments_lexer": "ipython3",
   "version": "3.12.4"
  }
 },
 "nbformat": 4,
 "nbformat_minor": 4
}
